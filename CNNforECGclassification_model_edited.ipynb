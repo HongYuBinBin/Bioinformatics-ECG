{
  "nbformat": 4,
  "nbformat_minor": 0,
  "metadata": {
    "kernelspec": {
      "display_name": "tf35",
      "language": "python",
      "name": "tf35"
    },
    "language_info": {
      "codemirror_mode": {
        "name": "ipython",
        "version": 3
      },
      "file_extension": ".py",
      "mimetype": "text/x-python",
      "name": "python",
      "nbconvert_exporter": "python",
      "pygments_lexer": "ipython3",
      "version": "3.5.4"
    },
    "colab": {
      "name": "CNNforECGclassification_model_edited.ipynb",
      "provenance": [],
      "collapsed_sections": [],
      "toc_visible": true
    }
  },
  "cells": [
    {
      "cell_type": "markdown",
      "metadata": {
        "id": "sWGA7xzslqxF"
      },
      "source": [
        "### 강사님이 보내신 파일에 업로드 관련 정보가 없어서 영상과 다르게 제일 윗 부분을 추가하였습니다"
      ]
    },
    {
      "cell_type": "code",
      "metadata": {
        "colab": {
          "base_uri": "https://localhost:8080/"
        },
        "id": "HoT78LOqdWWs",
        "outputId": "51a72d97-2dae-433f-fc3d-2c088641ccff"
      },
      "source": [
        "#여기서 필요한 파일은 required files 폴더 안에 있는 것 중 physio_small.h5, phyionet_genrator.py, physionet_processing.py, REFERNECE-small.csv 파일입니다\r\n",
        "# 아래처럼 마운트된 것에서 불러 오셔도 되고 \r\n",
        "from google.colab import drive\r\n",
        "drive.mount('/content/gdrive')\r\n",
        "\r\n",
        "#또는 아래에서 다운로도ㅡ된 파일을 불러오셔도 됩니다. 여기서는 마운트하여 불러 오겠습니다\r\n",
        "# from google.colab import files\r\n",
        "# files.upload() "
      ],
      "execution_count": 1,
      "outputs": [
        {
          "output_type": "stream",
          "text": [
            "Mounted at /content/gdrive\n"
          ],
          "name": "stdout"
        }
      ]
    },
    {
      "cell_type": "code",
      "metadata": {
        "colab": {
          "base_uri": "https://localhost:8080/"
        },
        "id": "92qAVYranmOo",
        "outputId": "1a55f85a-14ce-4842-de53-425012beb765"
      },
      "source": [
        "#아래 링크는 개인마다 다르므로 그 경로를 확인해 보시기 바랍니다. 좌측 패널의 위쪽에서 데이터 그림을 클릭하고 해당 zip파일의 경로를 복사하세요\r\n",
        "!unzip \"/content/gdrive/My Drive/Required_files.zip\" -d required_files/"
      ],
      "execution_count": 2,
      "outputs": [
        {
          "output_type": "stream",
          "text": [
            "Archive:  /content/gdrive/My Drive/Required_files.zip\n",
            "  inflating: required_files/history.csv  \n",
            "  inflating: required_files/physionet_generator.py  \n",
            "  inflating: required_files/physionet_processing.py  \n",
            "  inflating: required_files/physio_small.h5  \n",
            "  inflating: required_files/REFERENCE-small.csv  \n",
            "  inflating: required_files/REFERENCE-v3.csv  \n"
          ],
          "name": "stdout"
        }
      ]
    },
    {
      "cell_type": "code",
      "metadata": {
        "id": "7HSl-XH9n7Rk"
      },
      "source": [
        "# 필요한 파일들을 불러 옵니다\r\n",
        "physio_small = '/content/required_files/physio_small.h5'\r\n",
        "label_file = '/content/required_files/REFERENCE-small.csv'\r\n",
        "! cp /content/required_files/physionet_generator.py -d physionet_generator.py\r\n",
        "! cp /content/required_files/physionet_processing.py -d physionet_processing.py"
      ],
      "execution_count": 17,
      "outputs": []
    },
    {
      "cell_type": "code",
      "metadata": {
        "id": "aDE5DajLaxRW",
        "colab": {
          "base_uri": "https://localhost:8080/"
        },
        "outputId": "4b9c09c5-432a-4a00-c900-53dec58c72c8"
      },
      "source": [
        "import numpy as np\n",
        "import pandas as pd\n",
        "import os\n",
        "import h5py\n",
        "import matplotlib\n",
        "from matplotlib import pyplot as plt\n",
        "%matplotlib inline\n",
        "matplotlib.style.use('ggplot')\n",
        "\n",
        "from sklearn.model_selection import train_test_split\n",
        "from sklearn.preprocessing import LabelEncoder\n",
        "\n",
        "# Keras\n",
        "import keras\n",
        "from keras.models import Sequential\n",
        "from keras import layers\n",
        "from keras import optimizers\n",
        "from keras import backend as K\n",
        "from keras import regularizers\n",
        "\n",
        "# Tensorflow\n",
        "import tensorflow as tf\n",
        "from tensorflow.python.client import device_lib\n",
        "print(device_lib.list_local_devices())\n",
        "\n",
        "# Custom imports\n",
        "from physionet_processing import (fetch_h5data, spectrogram, \n",
        "                                  special_parameters, transformed_stats)\n",
        "\n",
        "from physionet_generator import DataGenerator\n",
        "\n",
        "print('Tensorflow version:', tf.__version__)\n",
        "print('Keras version:', keras.__version__)"
      ],
      "execution_count": 18,
      "outputs": [
        {
          "output_type": "stream",
          "text": [
            "[name: \"/device:CPU:0\"\n",
            "device_type: \"CPU\"\n",
            "memory_limit: 268435456\n",
            "locality {\n",
            "}\n",
            "incarnation: 7125648337304691352\n",
            "]\n",
            "Tensorflow version: 2.4.0\n",
            "Keras version: 2.4.3\n"
          ],
          "name": "stdout"
        }
      ]
    },
    {
      "cell_type": "markdown",
      "metadata": {
        "id": "DStIdiYCaxRY"
      },
      "source": [
        "### Open hdf5 file, load the labels and define training/validation splits ###"
      ]
    },
    {
      "cell_type": "code",
      "metadata": {
        "id": "wMoM310gaxRY",
        "colab": {
          "base_uri": "https://localhost:8080/"
        },
        "outputId": "39aa9669-6b3a-4274-e2a7-849be73cc266"
      },
      "source": [
        "# Data folder and hdf5 dataset file\n",
        "data_root = os.path.normpath('.')\n",
        "#data_root = os.path.normpath('/media/sf_vbshare/physionet_data/')\n",
        "#data_root = os.path.normpath('/home/ubuntu/projects/csproject')\n",
        "# 위에 바뀌어서 따라서 바꿈\n",
        "hd_file = physio_small\n",
        "label_file =label_file\n",
        "\n",
        "# Open hdf5 file\n",
        "h5file =  h5py.File(hd_file, 'r')\n",
        "\n",
        "# Get a list of dataset names \n",
        "dataset_list = list(h5file.keys())\n",
        "\n",
        "# Load the labels\n",
        "label_df = pd.read_csv(label_file, header = None, names = ['name', 'label'])\n",
        "# Filter the labels that are in the small demo set\n",
        "label_df = label_df[label_df['name'].isin(dataset_list)]\n",
        "\n",
        "# Encode labels to integer numbers\n",
        "label_set = list(sorted(label_df.label.unique()))\n",
        "encoder = LabelEncoder().fit(label_set)\n",
        "label_set_codings = encoder.transform(label_set)\n",
        "label_df = label_df.assign(encoded = encoder.transform(label_df.label))\n",
        "\n",
        "print('Unique labels:', encoder.inverse_transform(label_set_codings))\n",
        "print('Unique codings:', label_set_codings)\n",
        "print('Dataset labels:\\n', label_df.iloc[100:110,])\n",
        "\n",
        "# Split the IDs in training and validation set\n",
        "test_split = 0.33\n",
        "idx = np.arange(label_df.shape[0])\n",
        "id_train, id_val, _, _ = train_test_split(idx, idx, \n",
        "                                         test_size = test_split,\n",
        "                                         shuffle = True,\n",
        "                                         random_state = 123)\n",
        "\n",
        "# Store the ids and labels in dictionaries\n",
        "partition = {'train': list(label_df.iloc[id_train,].name), \n",
        "             'validation': list(label_df.iloc[id_val,].name)}\n",
        "\n",
        "labels = dict(zip(label_df.name, label_df.encoded))"
      ],
      "execution_count": 19,
      "outputs": [
        {
          "output_type": "stream",
          "text": [
            "Unique labels: ['A' 'N' 'O' '~']\n",
            "Unique codings: [0 1 2 3]\n",
            "Dataset labels:\n",
            "        name label  encoded\n",
            "100  A00101     A        0\n",
            "101  A00102     A        0\n",
            "102  A00103     O        2\n",
            "103  A00104     N        1\n",
            "104  A00105     N        1\n",
            "105  A00106     ~        3\n",
            "106  A00107     A        0\n",
            "107  A00108     O        2\n",
            "108  A00109     N        1\n",
            "109  A00110     O        2\n"
          ],
          "name": "stdout"
        }
      ]
    },
    {
      "cell_type": "markdown",
      "metadata": {
        "id": "08mu-mdgaxRZ"
      },
      "source": [
        "### Set up batch generators ###"
      ]
    },
    {
      "cell_type": "code",
      "metadata": {
        "id": "q7iG_L1KaxRZ",
        "colab": {
          "base_uri": "https://localhost:8080/"
        },
        "outputId": "d3bf51d7-f676-4654-8ea6-f82b9bca66de"
      },
      "source": [
        "# Parameters needed for the batch generator\n",
        "\n",
        "# Maximum sequence length\n",
        "max_length = 18286\n",
        "\n",
        "# Output dimensions\n",
        "sequence_length = max_length\n",
        "spectrogram_nperseg = 64 # Spectrogram window\n",
        "spectrogram_noverlap = 32 # Spectrogram overlap\n",
        "n_classes = len(label_df.label.unique())\n",
        "batch_size = 32\n",
        "\n",
        "# calculate image dimensions\n",
        "data = fetch_h5data(h5file, [0], sequence_length)\n",
        "_, _, Sxx = spectrogram(data, nperseg = spectrogram_nperseg, noverlap = spectrogram_noverlap)\n",
        "dim = Sxx[0].shape\n",
        "\n",
        "print('Maximum sequence length:', max_length)"
      ],
      "execution_count": 20,
      "outputs": [
        {
          "output_type": "stream",
          "text": [
            "Maximum sequence length: 18286\n"
          ],
          "name": "stdout"
        }
      ]
    },
    {
      "cell_type": "code",
      "metadata": {
        "id": "ik8dIGyCaxRa",
        "colab": {
          "base_uri": "https://localhost:8080/"
        },
        "outputId": "af0c5ccf-b93f-4fd7-acd0-0ad03e2b5770"
      },
      "source": [
        "params = {'batch_size': batch_size,\n",
        "          'dim': dim,\n",
        "          'nperseg': spectrogram_nperseg,\n",
        "          'noverlap': spectrogram_noverlap,\n",
        "          'n_channels': 1,\n",
        "          'sequence_length': sequence_length,\n",
        "          'n_classes': n_classes,\n",
        "          'shuffle': True}\n",
        "\n",
        "train_generator = DataGenerator(h5file, partition['train'], labels, augment = True, **params)\n",
        "val_generator = DataGenerator(h5file, partition['validation'], labels, augment = False, **params)\n",
        "\n",
        "for i, batch in enumerate(train_generator):\n",
        "    if i == 1:\n",
        "        break\n",
        "\n",
        "X = batch[0]\n",
        "y = batch[1]\n",
        "\n",
        "print('X shape:', X.shape)\n",
        "print('y shape:', y.shape)\n",
        "print('X type:', np.dtype(X[0,0,0,0]))"
      ],
      "execution_count": 21,
      "outputs": [
        {
          "output_type": "stream",
          "text": [
            "X shape: (32, 570, 33, 1)\n",
            "y shape: (32, 4)\n",
            "X type: float64\n"
          ],
          "name": "stdout"
        }
      ]
    },
    {
      "cell_type": "code",
      "metadata": {
        "id": "REIcwTHmaxRa",
        "colab": {
          "base_uri": "https://localhost:8080/",
          "height": 227
        },
        "outputId": "abfc1bdc-ff96-4f76-a26c-715469444a68"
      },
      "source": [
        "def imshow_batch(X, y, batch_idx):\n",
        "    \n",
        "    batch_labels = ['Class label:' + str(np.argmax(y[idx,])) for idx in batch_idx]\n",
        "    #batch_labels = ['Class label:' + str(np.argmax(y[idx,])[0]) for idx in batch_idx]\n",
        "\n",
        "    fig, ax = plt.subplots(1, len(batch_idx), figsize = (15, 3))\n",
        "\n",
        "    for i, idx in enumerate(batch_idx):\n",
        "    \n",
        "        ax[i].imshow(X[idx, :, :, 0].transpose(), cmap = 'jet', aspect = 'auto')\n",
        "        ax[i].grid(False)\n",
        "        #ax[i].axis('off')\n",
        "        ax[i].invert_yaxis()\n",
        "        ax[i].set(title = batch_labels[i])\n",
        "    \n",
        "    plt.show()\n",
        "        \n",
        "    return fig\n",
        "\n",
        "batch_idx = [0, 1, 2, 3, 4]\n",
        "fig = imshow_batch(X, y, batch_idx)\n",
        "plt.show()"
      ],
      "execution_count": 22,
      "outputs": [
        {
          "output_type": "display_data",
          "data": {
            "image/png": "[encoded data removed]",
            "text/plain": [
              "<Figure size 1080x216 with 5 Axes>"
            ]
          },
          "metadata": {
            "tags": []
          }
        }
      ]
    },
    {
      "cell_type": "markdown",
      "metadata": {
        "id": "xt9kSIEBaxRb"
      },
      "source": [
        "### Define the model ###"
      ]
    },
    {
      "cell_type": "code",
      "metadata": {
        "id": "Z_fW-2BuaxRb"
      },
      "source": [
        "# Convolutional blocks\n",
        "def conv2d_block(model, depth, layer_filters, filters_growth, \n",
        "                 strides_start, strides_end, input_shape, first_layer = False):\n",
        "    \n",
        "    ''' Convolutional block. \n",
        "    depth: number of convolutional layers in the block (4)\n",
        "    filters: 2D kernel size (32)\n",
        "    filters_growth: kernel size increase at the end of block (32)\n",
        "    first_layer: provide input_shape for first layer'''\n",
        "    \n",
        "    # Fixed parameters for convolution\n",
        "    conv_parms = {'kernel_size': (3, 3),\n",
        "                  'padding': 'same',\n",
        "                  'dilation_rate': (1, 1),\n",
        "                  'activation': None,\n",
        "                  'data_format': 'channels_last',\n",
        "                  'kernel_initializer': 'glorot_normal'}\n",
        "\n",
        "    for l in range(depth):\n",
        "\n",
        "        if first_layer:\n",
        "            \n",
        "            # First layer needs an input_shape \n",
        "            model.add(layers.Conv2D(filters = layer_filters,\n",
        "                                    strides = strides_start,\n",
        "                                    input_shape = input_shape, **conv_parms))\n",
        "            first_layer = False\n",
        "        \n",
        "        else:\n",
        "            # All other layers will not need an input_shape parameter\n",
        "            if l == depth - 1:\n",
        "                # Last layer in each block is different: adding filters and using stride 2\n",
        "                layer_filters += filters_growth\n",
        "                model.add(layers.Conv2D(filters = layer_filters,\n",
        "                                        strides = strides_end, **conv_parms))\n",
        "            else:\n",
        "                model.add(layers.Conv2D(filters = layer_filters,\n",
        "                                        strides = strides_start, **conv_parms))\n",
        "        \n",
        "        # Continue with batch normalization and activation for all layers in the block\n",
        "        model.add(layers.BatchNormalization(center = True, scale = True))\n",
        "        model.add(layers.Activation('relu'))\n",
        "    \n",
        "    return model\n",
        "\n",
        "def MeanOverTime():\n",
        "    lam_layer = layers.Lambda(lambda x: K.mean(x, axis=1), output_shape=lambda s: (1, s[2]))\n",
        "    return lam_layer"
      ],
      "execution_count": 23,
      "outputs": []
    },
    {
      "cell_type": "code",
      "metadata": {
        "id": "hqBms9b1axRb",
        "colab": {
          "base_uri": "https://localhost:8080/"
        },
        "outputId": "4a5d3f43-9e72-4bc2-c614-59377baf01e1"
      },
      "source": [
        "# Define the model\n",
        "# Model parameters\n",
        "filters_start = 32 # Number of convolutional filters\n",
        "layer_filters = filters_start # Start with these filters\n",
        "filters_growth = 32 # Filter increase after each convBlock\n",
        "strides_start = (1, 1) # Strides at the beginning of each convBlock\n",
        "strides_end = (2, 2) # Strides at the end of each convBlock\n",
        "depth = 4 # Number of convolutional layers in each convBlock\n",
        "n_blocks = 6 # Number of ConBlocks\n",
        "n_channels = 1 # Number of color channgels\n",
        "input_shape = (*dim, n_channels) # input shape for first layer\n",
        "\n",
        "\n",
        "model = Sequential()\n",
        "\n",
        "for block in range(n_blocks):\n",
        "\n",
        "    # Provide input only for the first layer\n",
        "    if block == 0:\n",
        "        provide_input = True\n",
        "    else:\n",
        "        provide_input = False\n",
        "    \n",
        "    model = conv2d_block(model, depth,\n",
        "                         layer_filters,\n",
        "                         filters_growth,\n",
        "                         strides_start, strides_end,\n",
        "                         input_shape,\n",
        "                         first_layer = provide_input)\n",
        "    \n",
        "    # Increase the number of filters after each block\n",
        "    layer_filters += filters_growth\n",
        "\n",
        "\n",
        "\n",
        "# Remove the frequency dimension, so that the output can feed into LSTM\n",
        "# Reshape to (batch, time steps, filters)\n",
        "model.add(layers.Reshape((-1, 224)))\n",
        "model.add(layers.core.Masking(mask_value = 0.0))\n",
        "model.add(MeanOverTime())\n",
        "\n",
        "# Alternative: Replace averaging by LSTM\n",
        "\n",
        "# Insert masking layer to ignore zeros\n",
        "#model.add(layers.core.Masking(mask_value = 0.0))\n",
        "\n",
        "# Add LSTM layer with 3 neurons\n",
        "#model.add(layers.LSTM(200))\n",
        "#model.add(layers.Flatten())\n",
        "\n",
        "# And a fully connected layer for the output\n",
        "model.add(layers.Dense(4, activation='sigmoid', kernel_regularizer = regularizers.l2(0.1)))\n",
        "\n",
        "\n",
        "model.summary()"
      ],
      "execution_count": 24,
      "outputs": [
        {
          "output_type": "stream",
          "text": [
            "Model: \"sequential\"\n",
            "_________________________________________________________________\n",
            "Layer (type)                 Output Shape              Param #   \n",
            "=================================================================\n",
            "conv2d (Conv2D)              (None, 570, 33, 32)       320       \n",
            "_________________________________________________________________\n",
            "batch_normalization (BatchNo (None, 570, 33, 32)       128       \n",
            "_________________________________________________________________\n",
            "activation (Activation)      (None, 570, 33, 32)       0         \n",
            "_________________________________________________________________\n",
            "conv2d_1 (Conv2D)            (None, 570, 33, 32)       9248      \n",
            "_________________________________________________________________\n",
            "batch_normalization_1 (Batch (None, 570, 33, 32)       128       \n",
            "_________________________________________________________________\n",
            "activation_1 (Activation)    (None, 570, 33, 32)       0         \n",
            "_________________________________________________________________\n",
            "conv2d_2 (Conv2D)            (None, 570, 33, 32)       9248      \n",
            "_________________________________________________________________\n",
            "batch_normalization_2 (Batch (None, 570, 33, 32)       128       \n",
            "_________________________________________________________________\n",
            "activation_2 (Activation)    (None, 570, 33, 32)       0         \n",
            "_________________________________________________________________\n",
            "conv2d_3 (Conv2D)            (None, 285, 17, 64)       18496     \n",
            "_________________________________________________________________\n",
            "batch_normalization_3 (Batch (None, 285, 17, 64)       256       \n",
            "_________________________________________________________________\n",
            "activation_3 (Activation)    (None, 285, 17, 64)       0         \n",
            "_________________________________________________________________\n",
            "conv2d_4 (Conv2D)            (None, 285, 17, 64)       36928     \n",
            "_________________________________________________________________\n",
            "batch_normalization_4 (Batch (None, 285, 17, 64)       256       \n",
            "_________________________________________________________________\n",
            "activation_4 (Activation)    (None, 285, 17, 64)       0         \n",
            "_________________________________________________________________\n",
            "conv2d_5 (Conv2D)            (None, 285, 17, 64)       36928     \n",
            "_________________________________________________________________\n",
            "batch_normalization_5 (Batch (None, 285, 17, 64)       256       \n",
            "_________________________________________________________________\n",
            "activation_5 (Activation)    (None, 285, 17, 64)       0         \n",
            "_________________________________________________________________\n",
            "conv2d_6 (Conv2D)            (None, 285, 17, 64)       36928     \n",
            "_________________________________________________________________\n",
            "batch_normalization_6 (Batch (None, 285, 17, 64)       256       \n",
            "_________________________________________________________________\n",
            "activation_6 (Activation)    (None, 285, 17, 64)       0         \n",
            "_________________________________________________________________\n",
            "conv2d_7 (Conv2D)            (None, 143, 9, 96)        55392     \n",
            "_________________________________________________________________\n",
            "batch_normalization_7 (Batch (None, 143, 9, 96)        384       \n",
            "_________________________________________________________________\n",
            "activation_7 (Activation)    (None, 143, 9, 96)        0         \n",
            "_________________________________________________________________\n",
            "conv2d_8 (Conv2D)            (None, 143, 9, 96)        83040     \n",
            "_________________________________________________________________\n",
            "batch_normalization_8 (Batch (None, 143, 9, 96)        384       \n",
            "_________________________________________________________________\n",
            "activation_8 (Activation)    (None, 143, 9, 96)        0         \n",
            "_________________________________________________________________\n",
            "conv2d_9 (Conv2D)            (None, 143, 9, 96)        83040     \n",
            "_________________________________________________________________\n",
            "batch_normalization_9 (Batch (None, 143, 9, 96)        384       \n",
            "_________________________________________________________________\n",
            "activation_9 (Activation)    (None, 143, 9, 96)        0         \n",
            "_________________________________________________________________\n",
            "conv2d_10 (Conv2D)           (None, 143, 9, 96)        83040     \n",
            "_________________________________________________________________\n",
            "batch_normalization_10 (Batc (None, 143, 9, 96)        384       \n",
            "_________________________________________________________________\n",
            "activation_10 (Activation)   (None, 143, 9, 96)        0         \n",
            "_________________________________________________________________\n",
            "conv2d_11 (Conv2D)           (None, 72, 5, 128)        110720    \n",
            "_________________________________________________________________\n",
            "batch_normalization_11 (Batc (None, 72, 5, 128)        512       \n",
            "_________________________________________________________________\n",
            "activation_11 (Activation)   (None, 72, 5, 128)        0         \n",
            "_________________________________________________________________\n",
            "conv2d_12 (Conv2D)           (None, 72, 5, 128)        147584    \n",
            "_________________________________________________________________\n",
            "batch_normalization_12 (Batc (None, 72, 5, 128)        512       \n",
            "_________________________________________________________________\n",
            "activation_12 (Activation)   (None, 72, 5, 128)        0         \n",
            "_________________________________________________________________\n",
            "conv2d_13 (Conv2D)           (None, 72, 5, 128)        147584    \n",
            "_________________________________________________________________\n",
            "batch_normalization_13 (Batc (None, 72, 5, 128)        512       \n",
            "_________________________________________________________________\n",
            "activation_13 (Activation)   (None, 72, 5, 128)        0         \n",
            "_________________________________________________________________\n",
            "conv2d_14 (Conv2D)           (None, 72, 5, 128)        147584    \n",
            "_________________________________________________________________\n",
            "batch_normalization_14 (Batc (None, 72, 5, 128)        512       \n",
            "_________________________________________________________________\n",
            "activation_14 (Activation)   (None, 72, 5, 128)        0         \n",
            "_________________________________________________________________\n",
            "conv2d_15 (Conv2D)           (None, 36, 3, 160)        184480    \n",
            "_________________________________________________________________\n",
            "batch_normalization_15 (Batc (None, 36, 3, 160)        640       \n",
            "_________________________________________________________________\n",
            "activation_15 (Activation)   (None, 36, 3, 160)        0         \n",
            "_________________________________________________________________\n",
            "conv2d_16 (Conv2D)           (None, 36, 3, 160)        230560    \n",
            "_________________________________________________________________\n",
            "batch_normalization_16 (Batc (None, 36, 3, 160)        640       \n",
            "_________________________________________________________________\n",
            "activation_16 (Activation)   (None, 36, 3, 160)        0         \n",
            "_________________________________________________________________\n",
            "conv2d_17 (Conv2D)           (None, 36, 3, 160)        230560    \n",
            "_________________________________________________________________\n",
            "batch_normalization_17 (Batc (None, 36, 3, 160)        640       \n",
            "_________________________________________________________________\n",
            "activation_17 (Activation)   (None, 36, 3, 160)        0         \n",
            "_________________________________________________________________\n",
            "conv2d_18 (Conv2D)           (None, 36, 3, 160)        230560    \n",
            "_________________________________________________________________\n",
            "batch_normalization_18 (Batc (None, 36, 3, 160)        640       \n",
            "_________________________________________________________________\n",
            "activation_18 (Activation)   (None, 36, 3, 160)        0         \n",
            "_________________________________________________________________\n",
            "conv2d_19 (Conv2D)           (None, 18, 2, 192)        276672    \n",
            "_________________________________________________________________\n",
            "batch_normalization_19 (Batc (None, 18, 2, 192)        768       \n",
            "_________________________________________________________________\n",
            "activation_19 (Activation)   (None, 18, 2, 192)        0         \n",
            "_________________________________________________________________\n",
            "conv2d_20 (Conv2D)           (None, 18, 2, 192)        331968    \n",
            "_________________________________________________________________\n",
            "batch_normalization_20 (Batc (None, 18, 2, 192)        768       \n",
            "_________________________________________________________________\n",
            "activation_20 (Activation)   (None, 18, 2, 192)        0         \n",
            "_________________________________________________________________\n",
            "conv2d_21 (Conv2D)           (None, 18, 2, 192)        331968    \n",
            "_________________________________________________________________\n",
            "batch_normalization_21 (Batc (None, 18, 2, 192)        768       \n",
            "_________________________________________________________________\n",
            "activation_21 (Activation)   (None, 18, 2, 192)        0         \n",
            "_________________________________________________________________\n",
            "conv2d_22 (Conv2D)           (None, 18, 2, 192)        331968    \n",
            "_________________________________________________________________\n",
            "batch_normalization_22 (Batc (None, 18, 2, 192)        768       \n",
            "_________________________________________________________________\n",
            "activation_22 (Activation)   (None, 18, 2, 192)        0         \n",
            "_________________________________________________________________\n",
            "conv2d_23 (Conv2D)           (None, 9, 1, 224)         387296    \n",
            "_________________________________________________________________\n",
            "batch_normalization_23 (Batc (None, 9, 1, 224)         896       \n",
            "_________________________________________________________________\n",
            "activation_23 (Activation)   (None, 9, 1, 224)         0         \n",
            "_________________________________________________________________\n",
            "reshape (Reshape)            (None, 9, 224)            0         \n",
            "_________________________________________________________________\n",
            "masking (Masking)            (None, 9, 224)            0         \n",
            "_________________________________________________________________\n",
            "lambda (Lambda)              (None, 224)               0         \n",
            "_________________________________________________________________\n",
            "dense (Dense)                (None, 4)                 900       \n",
            "=================================================================\n",
            "Total params: 3,554,532\n",
            "Trainable params: 3,548,772\n",
            "Non-trainable params: 5,760\n",
            "_________________________________________________________________\n"
          ],
          "name": "stdout"
        }
      ]
    },
    {
      "cell_type": "code",
      "metadata": {
        "id": "pRpsdcvwaxRc"
      },
      "source": [
        "# Compile the model and run a batch through the network\n",
        "model.compile(loss='categorical_crossentropy',\n",
        "              optimizer=optimizers.Adam(lr=0.001),\n",
        "              metrics=['acc'])"
      ],
      "execution_count": 25,
      "outputs": []
    },
    {
      "cell_type": "code",
      "metadata": {
        "id": "0y906IQCaxRd",
        "colab": {
          "base_uri": "https://localhost:8080/"
        },
        "outputId": "2d317dd1-ccc6-43b6-e2fb-933e37a28f43"
      },
      "source": [
        "history = model.fit_generator(generator = train_generator,\n",
        "                              steps_per_epoch = 50,\n",
        "                              epochs = 10,\n",
        "                              validation_data = val_generator,\n",
        "                              validation_steps = 50)"
      ],
      "execution_count": 26,
      "outputs": [
        {
          "output_type": "stream",
          "text": [
            "/usr/local/lib/python3.6/dist-packages/tensorflow/python/keras/engine/training.py:1844: UserWarning: `Model.fit_generator` is deprecated and will be removed in a future version. Please use `Model.fit`, which supports generators.\n",
            "  warnings.warn('`Model.fit_generator` is deprecated and '\n"
          ],
          "name": "stderr"
        },
        {
          "output_type": "stream",
          "text": [
            "Epoch 1/10\n",
            "10/50 [=====>........................] - ETA: 6:36 - loss: 2.2017 - acc: 0.3340WARNING:tensorflow:Your input ran out of data; interrupting training. Make sure that your dataset or generator can generate at least `steps_per_epoch * epochs` batches (in this case, 500 batches). You may need to use the repeat() function when building your dataset.\n",
            "WARNING:tensorflow:Your input ran out of data; interrupting training. Make sure that your dataset or generator can generate at least `steps_per_epoch * epochs` batches (in this case, 50 batches). You may need to use the repeat() function when building your dataset.\n",
            "50/50 [==============================] - 116s 2s/step - loss: 2.0697 - acc: 0.4393 - val_loss: 2.0359 - val_acc: 0.6375\n"
          ],
          "name": "stdout"
        }
      ]
    },
    {
      "cell_type": "code",
      "metadata": {
        "id": "zlGLXSCbaxRd"
      },
      "source": [
        "df = pd.DataFrame(history.history)\n",
        "df.head()\n",
        "df.to_csv('demo_history.csv')"
      ],
      "execution_count": 27,
      "outputs": []
    }
  ]
}